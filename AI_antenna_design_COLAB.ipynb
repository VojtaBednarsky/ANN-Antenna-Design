{
  "nbformat": 4,
  "nbformat_minor": 0,
  "metadata": {
    "colab": {
      "provenance": [],
      "gpuType": "T4",
      "authorship_tag": "ABX9TyPGgD6fdtpIYvUjVq0glIq7",
      "include_colab_link": true
    },
    "kernelspec": {
      "name": "python3",
      "display_name": "Python 3"
    },
    "language_info": {
      "name": "python"
    },
    "accelerator": "GPU"
  },
  "cells": [
    {
      "cell_type": "markdown",
      "metadata": {
        "id": "view-in-github",
        "colab_type": "text"
      },
      "source": [
        "<a href=\"https://colab.research.google.com/github/VojtaBednarsky/ANN-Antenna-Design/blob/main/AI_antenna_design.ipynb\" target=\"_parent\"><img src=\"https://colab.research.google.com/assets/colab-badge.svg\" alt=\"Open In Colab\"/></a>"
      ]
    },
    {
      "cell_type": "markdown",
      "source": [
        "ANN model for training neural network from dataset generated via PDE (Matlab) and futher optimalized in CST microwave Studio"
      ],
      "metadata": {
        "id": "85bvcp7T4VEY"
      }
    },
    {
      "cell_type": "code",
      "source": [
        "%pip install wandb"
      ],
      "metadata": {
        "id": "gndTbJXtcM_3"
      },
      "execution_count": 9,
      "outputs": []
    },
    {
      "cell_type": "code",
      "execution_count": null,
      "metadata": {
        "id": "QYKEz33sbv_W"
      },
      "outputs": [],
      "source": [
        "!python antenna-ai.py"
      ]
    },
    {
      "cell_type": "code",
      "source": [
        "!wandb agent vojta-bednarsky/Antenna_model/41s31xu2"
      ],
      "metadata": {
        "id": "oApcvwaCchoZ"
      },
      "execution_count": null,
      "outputs": []
    }
  ]
}